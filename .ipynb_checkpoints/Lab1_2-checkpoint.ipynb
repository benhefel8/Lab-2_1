{
 "cells": [
  {
   "cell_type": "markdown",
   "metadata": {
    "colab_type": "text",
    "id": "view-in-github"
   },
   "source": [
    "<a href=\"https://colab.research.google.com/github/benhefel8/Lab-2_1/blob/main/Lab1_2.ipynb\" target=\"_parent\"><img src=\"https://colab.research.google.com/assets/colab-badge.svg\" alt=\"Open In Colab\"/></a>"
   ]
  },
  {
   "cell_type": "code",
   "execution_count": 1,
   "metadata": {
    "id": "bfq6n0ZXE3y1"
   },
   "outputs": [],
   "source": [
    "import polars as pl"
   ]
  },
  {
   "cell_type": "code",
   "execution_count": 101,
   "metadata": {},
   "outputs": [
    {
     "data": {
      "text/html": [
       "<div><style>\n",
       ".dataframe > thead > tr,\n",
       ".dataframe > tbody > tr {\n",
       "  text-align: right;\n",
       "  white-space: pre-wrap;\n",
       "}\n",
       "</style>\n",
       "<small>shape: (5, 7)</small><table border=\"1\" class=\"dataframe\"><thead><tr><th>Participant</th><th>Question</th><th>Response</th><th>Needs Reverse Coding?</th><th>Temp Coded Value</th><th>Temp Reversed Coded Value</th><th>Recoded Value</th></tr><tr><td>i64</td><td>str</td><td>str</td><td>str</td><td>i32</td><td>i32</td><td>i32</td></tr></thead><tbody><tr><td>1</td><td>&quot;F1&quot;</td><td>&quot;Somewhat Agree&quot;</td><td>&quot;No&quot;</td><td>4</td><td>2</td><td>4</td></tr><tr><td>2</td><td>&quot;F1&quot;</td><td>&quot;Somewhat Agree&quot;</td><td>&quot;No&quot;</td><td>4</td><td>2</td><td>4</td></tr><tr><td>3</td><td>&quot;F1&quot;</td><td>&quot;Strongly Agree&quot;</td><td>&quot;No&quot;</td><td>5</td><td>1</td><td>5</td></tr><tr><td>4</td><td>&quot;F1&quot;</td><td>&quot;Somewhat Agree&quot;</td><td>&quot;No&quot;</td><td>4</td><td>2</td><td>4</td></tr><tr><td>5</td><td>&quot;F1&quot;</td><td>&quot;Strongly Agree&quot;</td><td>&quot;No&quot;</td><td>5</td><td>1</td><td>5</td></tr></tbody></table></div>"
      ],
      "text/plain": [
       "shape: (5, 7)\n",
       "┌─────────────┬──────────┬──────────┬─────────┬────────────┬───────────────┬───────────────┐\n",
       "│ Participant ┆ Question ┆ Response ┆ Needs   ┆ Temp Coded ┆ Temp Reversed ┆ Recoded Value │\n",
       "│ ---         ┆ ---      ┆ ---      ┆ Reverse ┆ Value      ┆ Coded Value   ┆ ---           │\n",
       "│ i64         ┆ str      ┆ str      ┆ Coding? ┆ ---        ┆ ---           ┆ i32           │\n",
       "│             ┆          ┆          ┆ ---     ┆ i32        ┆ i32           ┆               │\n",
       "│             ┆          ┆          ┆ str     ┆            ┆               ┆               │\n",
       "╞═════════════╪══════════╪══════════╪═════════╪════════════╪═══════════════╪═══════════════╡\n",
       "│ 1           ┆ F1       ┆ Somewhat ┆ No      ┆ 4          ┆ 2             ┆ 4             │\n",
       "│             ┆          ┆ Agree    ┆         ┆            ┆               ┆               │\n",
       "│ 2           ┆ F1       ┆ Somewhat ┆ No      ┆ 4          ┆ 2             ┆ 4             │\n",
       "│             ┆          ┆ Agree    ┆         ┆            ┆               ┆               │\n",
       "│ 3           ┆ F1       ┆ Strongly ┆ No      ┆ 5          ┆ 1             ┆ 5             │\n",
       "│             ┆          ┆ Agree    ┆         ┆            ┆               ┆               │\n",
       "│ 4           ┆ F1       ┆ Somewhat ┆ No      ┆ 4          ┆ 2             ┆ 4             │\n",
       "│             ┆          ┆ Agree    ┆         ┆            ┆               ┆               │\n",
       "│ 5           ┆ F1       ┆ Strongly ┆ No      ┆ 5          ┆ 1             ┆ 5             │\n",
       "│             ┆          ┆ Agree    ┆         ┆            ┆               ┆               │\n",
       "└─────────────┴──────────┴──────────┴─────────┴────────────┴───────────────┴───────────────┘"
      ]
     },
     "execution_count": 101,
     "metadata": {},
     "output_type": "execute_result"
    }
   ],
   "source": [
    "reverse_coding = (pl.read_csv('Data/ReverseCodingItems.csv')\n",
    "    .rename({\"Column Name\": \"Question ID\"})\n",
    "    .select(\"Question ID\", \"Needs Reverse Coding?\")\n",
    ")\n",
    "\n",
    "health = (pl.read_csv('Data/health_survey.csv'))\n",
    "\n",
    "health_cols = health.select(pl.col(\"^F.*$\")).columns\n",
    "\n",
    "health = (health\n",
    "   .with_columns(pl.arange(1, pl.len() + 1).alias(\"Participant\"))\n",
    "          \n",
    "    .unpivot(health_cols, \n",
    "             index='Participant', \n",
    "             variable_name='Question', \n",
    "             value_name='Response')\n",
    "          \n",
    "    .join(reverse_coding, left_on='Question', right_on='Question ID')\n",
    "          \n",
    "    .with_columns([\n",
    "        pl.when(pl.col(\"Response\") == \"Strongly Disagree\").then(1)\n",
    "          .when(pl.col(\"Response\") == \"Somewhat Disagree\").then(2)\n",
    "          .when(pl.col(\"Response\") == \"Neither Agree nor Disagree\").then(3)\n",
    "          .when(pl.col(\"Response\") == \"Somewhat Agree\").then(4)\n",
    "          .when(pl.col(\"Response\") == \"Strongly Agree\").then(5)\n",
    "          .alias(\"Temp Coded Value\")])\n",
    "\n",
    "     .with_columns([\n",
    "         (6 - pl.col(\"Temp Coded Value\")).alias(\"Temp Reversed Coded Value\")])\n",
    "\n",
    "     .with_columns([pl.when(pl.col(\"Needs Reverse Coding?\") == \"Yes\")\n",
    "          .then(pl.col(\"Temp Reversed Coded Value\"))\n",
    "          .otherwise(pl.col(\"Temp Coded Value\"))\n",
    "          .alias(\"Recoded Value\")\n",
    "    ])\n",
    ")\n",
    "health_joined.write_csv('data/lab2_1.csv')\n",
    "health_joined.head()\n"
   ]
  },
  {
   "cell_type": "code",
   "execution_count": null,
   "metadata": {},
   "outputs": [],
   "source": []
  }
 ],
 "metadata": {
  "colab": {
   "authorship_tag": "ABX9TyNzqbulchDAsCR5o5YsoBdx",
   "include_colab_link": true,
   "provenance": []
  },
  "kernelspec": {
   "display_name": "Python 3 (ipykernel)",
   "language": "python",
   "name": "python3"
  },
  "language_info": {
   "codemirror_mode": {
    "name": "ipython",
    "version": 3
   },
   "file_extension": ".py",
   "mimetype": "text/x-python",
   "name": "python",
   "nbconvert_exporter": "python",
   "pygments_lexer": "ipython3",
   "version": "3.12.5"
  }
 },
 "nbformat": 4,
 "nbformat_minor": 4
}
